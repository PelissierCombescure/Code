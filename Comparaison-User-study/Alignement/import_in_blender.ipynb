{
 "cells": [
  {
   "cell_type": "code",
   "execution_count": 1,
   "metadata": {},
   "outputs": [
    {
     "name": "stderr",
     "output_type": "stream",
     "text": [
      "/home/pelissier/miniforge3/envs/blender_env/lib/python3.10/site-packages/numpy/_core/getlimits.py:555: UserWarning: The value of the smallest subnormal for <class 'numpy.float64'> type is zero.\n",
      "  setattr(self, word, getattr(machar, word).flat[0])\n",
      "/home/pelissier/miniforge3/envs/blender_env/lib/python3.10/site-packages/numpy/_core/getlimits.py:89: UserWarning: The value of the smallest subnormal for <class 'numpy.float64'> type is zero.\n",
      "  return self._float_to_str(self.smallest_subnormal)\n",
      "/home/pelissier/miniforge3/envs/blender_env/lib/python3.10/site-packages/numpy/_core/getlimits.py:555: UserWarning: The value of the smallest subnormal for <class 'numpy.float32'> type is zero.\n",
      "  setattr(self, word, getattr(machar, word).flat[0])\n",
      "/home/pelissier/miniforge3/envs/blender_env/lib/python3.10/site-packages/numpy/_core/getlimits.py:89: UserWarning: The value of the smallest subnormal for <class 'numpy.float32'> type is zero.\n",
      "  return self._float_to_str(self.smallest_subnormal)\n"
     ]
    },
    {
     "name": "stdout",
     "output_type": "stream",
     "text": [
      "6\n",
      "(  0.0000 sec |   0.0000 sec) Importing OBJ 'Dataset-aligned/tv_stand/test/tv_stand_0313_SMPLER_centered_scaled_remeshing_iso_iter7_aligned.obj'...\n",
      "  (  0.0001 sec |   0.0000 sec) Parsing OBJ file...\n",
      "    (  0.3480 sec |   0.3480 sec) Done, loading materials and images...\n",
      "    (  0.3568 sec |   0.3567 sec) Done, building geometries (verts:23921 faces:48150 materials: 1 smoothgroups:0) ...\n",
      "    (  0.5912 sec |   0.5911 sec) Done.\n",
      "  (  0.5913 sec |   0.5912 sec) Finished importing: 'Dataset-aligned/tv_stand/test/tv_stand_0313_SMPLER_centered_scaled_remeshing_iso_iter7_aligned.obj'\n",
      "Progress: 100.00%\n",
      "\n",
      "(  0.0000 sec |   0.0000 sec) Importing OBJ 'Dataset-aligned/tv_stand/test/tv_stand_0311_SMPLER_centered_scaled_remeshing_iso_iter8_aligned.obj'...\n",
      "  (  0.0001 sec |   0.0001 sec) Parsing OBJ file...\n",
      "    (  0.5102 sec |   0.5101 sec) Done, loading materials and images...\n",
      "    (  0.5107 sec |   0.5105 sec) Done, building geometries (verts:35942 faces:72022 materials: 1 smoothgroups:0) ...\n",
      "    (  0.8959 sec |   0.8958 sec) Done.\n",
      "  (  0.8960 sec |   0.8960 sec) Finished importing: 'Dataset-aligned/tv_stand/test/tv_stand_0311_SMPLER_centered_scaled_remeshing_iso_iter8_aligned.obj'\n",
      "Progress: 100.00%\n",
      "\n",
      "(  0.0000 sec |   0.0000 sec) Importing OBJ 'Dataset-aligned/tv_stand/test/tv_stand_0317_SMPLER_centered_scaled_remeshing_iso_iter10_aligned.obj'...\n",
      "  (  0.0001 sec |   0.0001 sec) Parsing OBJ file...\n",
      "    (  0.9307 sec |   0.9306 sec) Done, loading materials and images...\n",
      "    (  0.9310 sec |   0.9308 sec) Done, building geometries (verts:63407 faces:130590 materials: 1 smoothgroups:0) ...\n",
      "    (  1.7183 sec |   1.7182 sec) Done.\n",
      "  (  1.7184 sec |   1.7184 sec) Finished importing: 'Dataset-aligned/tv_stand/test/tv_stand_0317_SMPLER_centered_scaled_remeshing_iso_iter10_aligned.obj'\n",
      "Progress: 100.00%\n",
      "\n",
      "(  0.0001 sec |   0.0001 sec) Importing OBJ 'Dataset-aligned/tv_stand/test/tv_stand_0296_SMPLER_centered_scaled_remeshing_iso_iter7_aligned.obj'...\n",
      "  (  0.0001 sec |   0.0001 sec) Parsing OBJ file...\n",
      "    (  0.0697 sec |   0.0696 sec) Done, loading materials and images...\n",
      "    (  0.0700 sec |   0.0698 sec) Done, building geometries (verts:8406 faces:16065 materials: 1 smoothgroups:0) ...\n",
      "    (  0.1444 sec |   0.1443 sec) Done.\n",
      "  (  0.1445 sec |   0.1444 sec) Finished importing: 'Dataset-aligned/tv_stand/test/tv_stand_0296_SMPLER_centered_scaled_remeshing_iso_iter7_aligned.obj'\n",
      "Progress: 100.00%\n",
      "\n",
      "(  0.0000 sec |   0.0000 sec) Importing OBJ 'Dataset-aligned/tv_stand/train/tv_stand_0140_SMPLER_centered_scaled_remeshing_iso_iter8_aligned.obj'...\n",
      "  (  0.0001 sec |   0.0001 sec) Parsing OBJ file...\n",
      "    (  0.5972 sec |   0.5971 sec) Done, loading materials and images...\n",
      "    (  0.5975 sec |   0.5974 sec) Done, building geometries (verts:37657 faces:76185 materials: 1 smoothgroups:0) ...\n",
      "    (  0.9849 sec |   0.9847 sec) Done.\n",
      "  (  0.9850 sec |   0.9849 sec) Finished importing: 'Dataset-aligned/tv_stand/train/tv_stand_0140_SMPLER_centered_scaled_remeshing_iso_iter8_aligned.obj'\n",
      "Progress: 100.00%\n",
      "\n",
      "(  0.0001 sec |   0.0001 sec) Importing OBJ 'Dataset-aligned/tv_stand/train/tv_stand_0113_SMPLER_centered_scaled_remeshing_iso_iter9_aligned.obj'...\n",
      "  (  0.0001 sec |   0.0001 sec) Parsing OBJ file...\n",
      "    (  0.5831 sec |   0.5829 sec) Done, loading materials and images...\n",
      "    (  0.5835 sec |   0.5834 sec) Done, building geometries (verts:39827 faces:79666 materials: 1 smoothgroups:0) ...\n",
      "    (  1.0194 sec |   1.0192 sec) Done.\n",
      "  (  1.0195 sec |   1.0194 sec) Finished importing: 'Dataset-aligned/tv_stand/train/tv_stand_0113_SMPLER_centered_scaled_remeshing_iso_iter9_aligned.obj'\n",
      "Progress: 100.00%\n",
      "\n",
      "Info: Total files 0 | Changed 0 | Failed 0\n",
      "Info: Saved \"tv_stand_meshes_PBL_axe.blend\"\n"
     ]
    },
    {
     "data": {
      "text/plain": [
       "{'FINISHED'}"
      ]
     },
     "execution_count": 1,
     "metadata": {},
     "output_type": "execute_result"
    }
   ],
   "source": [
    "import bpy\n",
    "import os\n",
    "import sys\n",
    "\n",
    "sys.path.append('/home/pelissier/These-ATER/Papier_international3/Dataset')  # Adjust the path based on the relative location\n",
    "from utils import *\n",
    "sys.path.append('/home/pelissier/These-ATER/Papier_international3/Code')  # Adjust the path based on the relative location\n",
    "from utils_comparaison import *\n",
    "\n",
    "# Set the directory where your OBJ files are located\n",
    "mesh_pbl = read_paths_from_txt('paths/tv_stand_meshes_PBL_axe.txt'); print(len(mesh_pbl))\n",
    "\n",
    " \n",
    "for obj_file in mesh_pbl:\n",
    "    obj_path = os.path.join(obj_file)\n",
    "    bpy.ops.import_scene.obj(filepath=obj_path)\n",
    "    obj = bpy.context.active_object  # Get the last imported object\n",
    "    obj.rotation_euler =  (0, 0, 0)\n",
    "            \n",
    "   \n",
    "bpy.ops.wm.save_as_mainfile(filepath=\"/home/pelissier/These-ATER/Papier_international3/Code/Comparaison-User-study/Alignement/paths/tv_stand_meshes_PBL_axe.blend\")\n"
   ]
  },
  {
   "cell_type": "code",
   "execution_count": null,
   "metadata": {},
   "outputs": [],
   "source": [
    "import bpy\n",
    "# Angle de rotation à appliquer (en radians)\n",
    "rotation = (0, 0, 0)  # Exemple de rotation sur l'axe Z (90°)\n",
    "\n",
    "# Appliquer la rotation à plusieurs objets\n",
    "for obj in bpy.context.selected_objects:\n",
    "    if obj.type == 'MESH':  # Filtrer par type d'objet (ici les objets de type mesh)\n",
    "        obj.rotation_euler = rotation"
   ]
  },
  {
   "cell_type": "code",
   "execution_count": null,
   "metadata": {},
   "outputs": [],
   "source": []
  }
 ],
 "metadata": {
  "kernelspec": {
   "display_name": "blender_env",
   "language": "python",
   "name": "python3"
  },
  "language_info": {
   "codemirror_mode": {
    "name": "ipython",
    "version": 3
   },
   "file_extension": ".py",
   "mimetype": "text/x-python",
   "name": "python",
   "nbconvert_exporter": "python",
   "pygments_lexer": "ipython3",
   "version": "3.10.15"
  }
 },
 "nbformat": 4,
 "nbformat_minor": 2
}
