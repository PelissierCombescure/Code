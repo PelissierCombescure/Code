{
 "cells": [
  {
   "cell_type": "code",
   "execution_count": 1,
   "metadata": {},
   "outputs": [
    {
     "name": "stderr",
     "output_type": "stream",
     "text": [
      "/home/pelissier/miniforge3/envs/blender_env/lib/python3.10/site-packages/numpy/_core/getlimits.py:555: UserWarning: The value of the smallest subnormal for <class 'numpy.float64'> type is zero.\n",
      "  setattr(self, word, getattr(machar, word).flat[0])\n",
      "/home/pelissier/miniforge3/envs/blender_env/lib/python3.10/site-packages/numpy/_core/getlimits.py:89: UserWarning: The value of the smallest subnormal for <class 'numpy.float64'> type is zero.\n",
      "  return self._float_to_str(self.smallest_subnormal)\n",
      "/home/pelissier/miniforge3/envs/blender_env/lib/python3.10/site-packages/numpy/_core/getlimits.py:555: UserWarning: The value of the smallest subnormal for <class 'numpy.float32'> type is zero.\n",
      "  setattr(self, word, getattr(machar, word).flat[0])\n",
      "/home/pelissier/miniforge3/envs/blender_env/lib/python3.10/site-packages/numpy/_core/getlimits.py:89: UserWarning: The value of the smallest subnormal for <class 'numpy.float32'> type is zero.\n",
      "  return self._float_to_str(self.smallest_subnormal)\n"
     ]
    },
    {
     "name": "stdout",
     "output_type": "stream",
     "text": [
      "4\n",
      "(  0.0001 sec |   0.0001 sec) Importing OBJ 'Dataset-aligned/chair/train/chair_0739_SMPLER_centered_scaled_remeshing_iso_iter8_aligned.obj'...\n",
      "  (  0.0001 sec |   0.0000 sec) Parsing OBJ file...\n",
      "    (  0.1426 sec |   0.1424 sec) Done, loading materials and images...\n",
      "    (  0.1445 sec |   0.1444 sec) Done, building geometries (verts:10030 faces:19906 materials: 1 smoothgroups:0) ...\n",
      "    (  0.2958 sec |   0.2956 sec) Done.\n",
      "  (  0.2959 sec |   0.2958 sec) Finished importing: 'Dataset-aligned/chair/train/chair_0739_SMPLER_centered_scaled_remeshing_iso_iter8_aligned.obj'\n",
      "Progress: 100.00%\n",
      "\n",
      "(  0.0001 sec |   0.0001 sec) Importing OBJ 'Dataset-aligned/chair/train/chair_0754_SMPLER_centered_scaled_remeshing_iso_iter5_aligned.obj'...\n",
      "  (  0.0001 sec |   0.0000 sec) Parsing OBJ file...\n",
      "    (  0.4040 sec |   0.4039 sec) Done, loading materials and images...\n",
      "    (  0.4045 sec |   0.4043 sec) Done, building geometries (verts:23071 faces:46338 materials: 1 smoothgroups:0) ...\n",
      "    (  0.7036 sec |   0.7035 sec) Done.\n",
      "  (  0.7037 sec |   0.7037 sec) Finished importing: 'Dataset-aligned/chair/train/chair_0754_SMPLER_centered_scaled_remeshing_iso_iter5_aligned.obj'\n",
      "Progress: 100.00%\n",
      "\n",
      "(  0.0001 sec |   0.0001 sec) Importing OBJ 'Dataset-aligned/chair/train/chair_0401_SMPLER_centered_scaled_remeshing_iso_iter6_aligned.obj'...\n",
      "  (  0.0001 sec |   0.0001 sec) Parsing OBJ file...\n",
      "    (  0.2045 sec |   0.2044 sec) Done, loading materials and images...\n",
      "    (  0.2049 sec |   0.2047 sec) Done, building geometries (verts:16206 faces:32389 materials: 1 smoothgroups:0) ...\n",
      "    (  0.4459 sec |   0.4458 sec) Done.\n",
      "  (  0.4462 sec |   0.4461 sec) Finished importing: 'Dataset-aligned/chair/train/chair_0401_SMPLER_centered_scaled_remeshing_iso_iter6_aligned.obj'\n",
      "Progress: 100.00%\n",
      "\n",
      "(  0.0000 sec |   0.0000 sec) Importing OBJ 'Dataset-aligned/chair/train/chair_0747_SMPLER_centered_scaled_remeshing_iso_iter9_aligned.obj'...\n",
      "  (  0.0001 sec |   0.0001 sec) Parsing OBJ file...\n",
      "    (  0.3055 sec |   0.3054 sec) Done, loading materials and images...\n",
      "    (  0.3058 sec |   0.3057 sec) Done, building geometries (verts:21215 faces:42816 materials: 1 smoothgroups:0) ...\n",
      "    (  0.5448 sec |   0.5447 sec) Done.\n",
      "  (  0.5449 sec |   0.5449 sec) Finished importing: 'Dataset-aligned/chair/train/chair_0747_SMPLER_centered_scaled_remeshing_iso_iter9_aligned.obj'\n",
      "Progress: 100.00%\n",
      "\n",
      "Info: Total files 0 | Changed 0 | Failed 0\n",
      "Info: Saved \"chair_meshes_PBL.blend\"\n"
     ]
    },
    {
     "data": {
      "text/plain": [
       "{'FINISHED'}"
      ]
     },
     "execution_count": 1,
     "metadata": {},
     "output_type": "execute_result"
    }
   ],
   "source": [
    "import bpy\n",
    "import os\n",
    "\n",
    "\n",
    "\n",
    "import sys\n",
    "sys.path.append('/home/pelissier/These-ATER/Papier_international3/Dataset')  # Adjust the path based on the relative location\n",
    "from utils import *\n",
    "sys.path.append('/home/pelissier/These-ATER/Papier_international3/Code')  # Adjust the path based on the relative location\n",
    "from utils_comparaison import *\n",
    "\n",
    "# Set the directory where your OBJ files are located\n",
    "mesh_pbl = read_paths_from_txt('paths/chair_meshes_PBL.txt'); print(len(mesh_pbl))\n",
    "\n",
    " \n",
    "for obj_file in mesh_pbl:\n",
    "    obj_path = os.path.join(obj_file)\n",
    "    bpy.ops.import_scene.obj(filepath=obj_path)\n",
    "    obj = bpy.context.active_object  # Get the last imported object\n",
    "    obj.rotation_euler =  (0, 0, 0)\n",
    "            \n",
    "   \n",
    "bpy.ops.wm.save_as_mainfile(filepath=\"/home/pelissier/These-ATER/Papier_international3/Code/Comparaison-User-study/Alignement/paths/chair_meshes_PBL.blend\")\n"
   ]
  },
  {
   "cell_type": "code",
   "execution_count": null,
   "metadata": {},
   "outputs": [],
   "source": [
    "import bpy\n",
    "# Angle de rotation à appliquer (en radians)\n",
    "rotation = (0, 0, 0)  # Exemple de rotation sur l'axe Z (90°)\n",
    "\n",
    "# Appliquer la rotation à plusieurs objets\n",
    "for obj in bpy.context.selected_objects:\n",
    "    if obj.type == 'MESH':  # Filtrer par type d'objet (ici les objets de type mesh)\n",
    "        obj.rotation_euler = rotation"
   ]
  },
  {
   "cell_type": "code",
   "execution_count": null,
   "metadata": {},
   "outputs": [],
   "source": []
  }
 ],
 "metadata": {
  "kernelspec": {
   "display_name": "blender_env",
   "language": "python",
   "name": "python3"
  },
  "language_info": {
   "codemirror_mode": {
    "name": "ipython",
    "version": 3
   },
   "file_extension": ".py",
   "mimetype": "text/x-python",
   "name": "python",
   "nbconvert_exporter": "python",
   "pygments_lexer": "ipython3",
   "version": "3.10.15"
  }
 },
 "nbformat": 4,
 "nbformat_minor": 2
}
