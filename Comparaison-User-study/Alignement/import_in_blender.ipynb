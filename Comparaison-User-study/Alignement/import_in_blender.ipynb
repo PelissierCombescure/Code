{
 "cells": [
  {
   "cell_type": "code",
   "execution_count": null,
   "metadata": {},
   "outputs": [],
   "source": [
    "import bpy\n",
    "import os\n",
    "import sys\n",
    "\n",
    "sys.path.append('/home/pelissier/These-ATER/Papier_international3/Dataset')  # Adjust the path based on the relative location\n",
    "from utils import *\n",
    "sys.path.append('/home/pelissier/These-ATER/Papier_international3/Code')  # Adjust the path based on the relative location\n",
    "from utils_comparaison import *\n",
    "\n",
    "# Set the directory where your OBJ files are located\n",
    "mesh_pbl = read_paths_from_txt('paths/bench_meshes_PBL_axe.txt'); print(len(mesh_pbl))\n",
    "\n",
    " \n",
    "for obj_file in mesh_pbl:\n",
    "    obj_path = os.path.join(obj_file)\n",
    "    bpy.ops.import_scene.obj(filepath=obj_path)\n",
    "    obj = bpy.context.active_object  # Get the last imported object\n",
    "    obj.rotation_euler =  (0, 0, 0)\n",
    "            \n",
    "   \n",
    "bpy.ops.wm.save_as_mainfile(filepath=\"/home/pelissier/These-ATER/Papier_international3/Code/Comparaison-User-study/Alignement/paths/bench_meshes_PBL_axe.blend\")\n"
   ]
  },
  {
   "cell_type": "code",
   "execution_count": null,
   "metadata": {},
   "outputs": [],
   "source": [
    "import bpy\n",
    "# Angle de rotation à appliquer (en radians)\n",
    "rotation = (0, 0, 0)  # Exemple de rotation sur l'axe Z (90°)\n",
    "\n",
    "# Appliquer la rotation à plusieurs objets\n",
    "for obj in bpy.context.selected_objects:\n",
    "    if obj.type == 'MESH':  # Filtrer par type d'objet (ici les objets de type mesh)\n",
    "        obj.rotation_euler = rotation"
   ]
  },
  {
   "cell_type": "code",
   "execution_count": null,
   "metadata": {},
   "outputs": [],
   "source": []
  }
 ],
 "metadata": {
  "kernelspec": {
   "display_name": "blender_env",
   "language": "python",
   "name": "python3"
  },
  "language_info": {
   "codemirror_mode": {
    "name": "ipython",
    "version": 3
   },
   "file_extension": ".py",
   "mimetype": "text/x-python",
   "name": "python",
   "nbconvert_exporter": "python",
   "pygments_lexer": "ipython3",
   "version": "3.10.15"
  }
 },
 "nbformat": 4,
 "nbformat_minor": 2
}
