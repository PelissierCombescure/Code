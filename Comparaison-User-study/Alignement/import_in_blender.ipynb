{
 "cells": [
  {
   "cell_type": "code",
   "execution_count": 2,
   "metadata": {},
   "outputs": [
    {
     "name": "stdout",
     "output_type": "stream",
     "text": [
      "10\n",
      "(  0.0000 sec |   0.0000 sec) Importing OBJ 'Dataset-aligned/bench/test/bench_0180_SMPLER_centered_scaled_remeshing_iso_iter7_aligned.obj'...\n",
      "  (  0.0001 sec |   0.0000 sec) Parsing OBJ file...\n",
      "    (  0.4565 sec |   0.4564 sec) Done, loading materials and images...\n",
      "    (  0.4578 sec |   0.4578 sec) Done, building geometries (verts:28437 faces:55444 materials: 1 smoothgroups:0) ...\n",
      "    (  0.7414 sec |   0.7413 sec) Done.\n",
      "  (  0.7416 sec |   0.7415 sec) Finished importing: 'Dataset-aligned/bench/test/bench_0180_SMPLER_centered_scaled_remeshing_iso_iter7_aligned.obj'\n",
      "Progress: 100.00%\n",
      "\n",
      "(  0.0000 sec |   0.0000 sec) Importing OBJ 'Dataset-aligned/bench/test/bench_0193_SMPLER_centered_scaled_remeshing_iso_iter6_aligned.obj'...\n",
      "  (  0.0001 sec |   0.0000 sec) Parsing OBJ file...\n",
      "    (  0.1631 sec |   0.1630 sec) Done, loading materials and images...\n",
      "    (  0.1633 sec |   0.1632 sec) Done, building geometries (verts:12832 faces:25660 materials: 1 smoothgroups:0) ...\n",
      "    (  0.2818 sec |   0.2817 sec) Done.\n",
      "  (  0.2819 sec |   0.2819 sec) Finished importing: 'Dataset-aligned/bench/test/bench_0193_SMPLER_centered_scaled_remeshing_iso_iter6_aligned.obj'\n",
      "Progress: 100.00%\n",
      "\n",
      "(  0.0000 sec |   0.0000 sec) Importing OBJ 'Dataset-aligned/bench/train/bench_0005_SMPLER_centered_scaled_remeshing_iso_iter12_aligned.obj'...\n",
      "  (  0.0001 sec |   0.0001 sec) Parsing OBJ file...\n",
      "    (  0.1011 sec |   0.1009 sec) Done, loading materials and images...\n",
      "    (  0.1013 sec |   0.1012 sec) Done, building geometries (verts:7753 faces:15314 materials: 1 smoothgroups:0) ...\n",
      "    (  0.2180 sec |   0.2179 sec) Done.\n",
      "  (  0.2181 sec |   0.2181 sec) Finished importing: 'Dataset-aligned/bench/train/bench_0005_SMPLER_centered_scaled_remeshing_iso_iter12_aligned.obj'\n",
      "Progress: 100.00%\n",
      "\n",
      "(  0.0000 sec |   0.0000 sec) Importing OBJ 'Dataset-aligned/bench/train/bench_0010_SMPLER_centered_scaled_remeshing_iso_iterNone_aligned.obj'...\n",
      "  (  0.0001 sec |   0.0000 sec) Parsing OBJ file...\n",
      "    ( 59.1354 sec |  59.1353 sec) Done, loading materials and images...\n",
      "    ( 59.1360 sec |  59.1359 sec) Done, building geometries (verts:4332296 faces:8664077 materials: 1 smoothgroups:0) ...\n",
      "    (123.3932 sec | 123.3931 sec) Done.\n",
      "  (123.3934 sec | 123.3934 sec) Finished importing: 'Dataset-aligned/bench/train/bench_0010_SMPLER_centered_scaled_remeshing_iso_iterNone_aligned.obj'\n",
      "Progress: 100.00%\n",
      "\n",
      "(  0.0000 sec |   0.0000 sec) Importing OBJ 'Dataset-aligned/bench/train/bench_0133_SMPLER_centered_scaled_remeshing_iso_iterNone_aligned.obj'...\n",
      "  (  0.0075 sec |   0.0075 sec) Parsing OBJ file...\n",
      "    ( 59.9019 sec |  59.8943 sec) Done, loading materials and images...\n",
      "    ( 59.9023 sec |  59.8947 sec) Done, building geometries (verts:4933607 faces:9864827 materials: 1 smoothgroups:0) ...\n",
      "    (135.4086 sec | 135.4010 sec) Done.\n",
      "  (135.4088 sec | 135.4087 sec) Finished importing: 'Dataset-aligned/bench/train/bench_0133_SMPLER_centered_scaled_remeshing_iso_iterNone_aligned.obj'\n",
      "Progress: 100.00%\n",
      "\n",
      "(  0.0001 sec |   0.0001 sec) Importing OBJ 'Dataset-aligned/bench/train/bench_0011_SMPLER_centered_scaled_remeshing_iso_iter9_aligned.obj'...\n",
      "  (  0.0076 sec |   0.0075 sec) Parsing OBJ file...\n",
      "    (  0.3244 sec |   0.3167 sec) Done, loading materials and images...\n",
      "    (  0.3249 sec |   0.3172 sec) Done, building geometries (verts:35657 faces:72140 materials: 1 smoothgroups:0) ...\n",
      "    (  0.7194 sec |   0.7117 sec) Done.\n",
      "  (  0.7196 sec |   0.7195 sec) Finished importing: 'Dataset-aligned/bench/train/bench_0011_SMPLER_centered_scaled_remeshing_iso_iter9_aligned.obj'\n",
      "Progress: 100.00%\n",
      "\n",
      "(  0.0001 sec |   0.0001 sec) Importing OBJ 'Dataset-aligned/bench/train/bench_0122_SMPLER_centered_scaled_remeshing_iso_iter10_aligned.obj'...\n",
      "  (  0.0003 sec |   0.0002 sec) Parsing OBJ file...\n",
      "    (  0.0788 sec |   0.0785 sec) Done, loading materials and images...\n",
      "    (  0.0791 sec |   0.0788 sec) Done, building geometries (verts:9867 faces:19722 materials: 1 smoothgroups:0) ...\n",
      "    (  0.1729 sec |   0.1726 sec) Done.\n",
      "  (  0.1730 sec |   0.1729 sec) Finished importing: 'Dataset-aligned/bench/train/bench_0122_SMPLER_centered_scaled_remeshing_iso_iter10_aligned.obj'\n",
      "Progress: 100.00%\n",
      "\n",
      "(  0.0000 sec |   0.0000 sec) Importing OBJ 'Dataset-aligned/bench/train/bench_0020_SMPLER_centered_scaled_remeshing_iso_iter8_aligned.obj'...\n",
      "  (  0.0076 sec |   0.0076 sec) Parsing OBJ file...\n",
      "    (  0.0959 sec |   0.0883 sec) Done, loading materials and images...\n",
      "    (  0.0962 sec |   0.0886 sec) Done, building geometries (verts:10875 faces:21744 materials: 1 smoothgroups:0) ...\n",
      "    (  0.1972 sec |   0.1896 sec) Done.\n",
      "  (  0.1973 sec |   0.1973 sec) Finished importing: 'Dataset-aligned/bench/train/bench_0020_SMPLER_centered_scaled_remeshing_iso_iter8_aligned.obj'\n",
      "Progress: 100.00%\n",
      "\n",
      "(  0.0000 sec |   0.0000 sec) Importing OBJ 'Dataset-aligned/bench/train/bench_0013_SMPLER_centered_scaled_remeshing_iso_iter14_aligned.obj'...\n",
      "  (  0.0074 sec |   0.0073 sec) Parsing OBJ file...\n",
      "    (  0.1631 sec |   0.1557 sec) Done, loading materials and images...\n",
      "    (  0.1636 sec |   0.1561 sec) Done, building geometries (verts:19246 faces:38488 materials: 1 smoothgroups:0) ...\n",
      "    (  0.3499 sec |   0.3425 sec) Done.\n",
      "  (  0.3500 sec |   0.3500 sec) Finished importing: 'Dataset-aligned/bench/train/bench_0013_SMPLER_centered_scaled_remeshing_iso_iter14_aligned.obj'\n",
      "Progress: 100.00%\n",
      "\n",
      "(  0.0001 sec |   0.0001 sec) Importing OBJ 'Dataset-aligned/bench/train/bench_0113_SMPLER_centered_scaled_remeshing_iso_iter9_aligned.obj'...\n",
      "  (  0.0076 sec |   0.0075 sec) Parsing OBJ file...\n",
      "    (  0.1140 sec |   0.1063 sec) Done, loading materials and images...\n",
      "    (  0.1142 sec |   0.1065 sec) Done, building geometries (verts:11827 faces:23403 materials: 1 smoothgroups:0) ...\n",
      "    (  0.2250 sec |   0.2173 sec) Done.\n",
      "  (  0.2251 sec |   0.2250 sec) Finished importing: 'Dataset-aligned/bench/train/bench_0113_SMPLER_centered_scaled_remeshing_iso_iter9_aligned.obj'\n",
      "Progress: 100.00%\n",
      "\n",
      "Info: Total files 0 | Changed 0 | Failed 0\n",
      "Info: Saved \"bench_meshes_PBL.blend\"\n"
     ]
    },
    {
     "data": {
      "text/plain": [
       "{'FINISHED'}"
      ]
     },
     "execution_count": 2,
     "metadata": {},
     "output_type": "execute_result"
    }
   ],
   "source": [
    "import bpy\n",
    "import os\n",
    "\n",
    "\n",
    "\n",
    "import sys\n",
    "sys.path.append('/home/pelissier/These-ATER/Papier_international3/Dataset')  # Adjust the path based on the relative location\n",
    "from utils import *\n",
    "sys.path.append('/home/pelissier/These-ATER/Papier_international3/Code')  # Adjust the path based on the relative location\n",
    "from utils_comparaison import *\n",
    "\n",
    "# Set the directory where your OBJ files are located\n",
    "mesh_pbl = read_paths_from_txt('paths/bench_meshes_PBL.txt'); print(len(mesh_pbl))\n",
    "\n",
    " \n",
    "for obj_file in mesh_pbl:\n",
    "    obj_path = os.path.join(obj_file)\n",
    "    bpy.ops.import_scene.obj(filepath=obj_path)\n",
    "    obj = bpy.context.active_object  # Get the last imported object\n",
    "    obj.rotation_euler =  (0, 0, 0)\n",
    "            \n",
    "   \n",
    "bpy.ops.wm.save_as_mainfile(filepath=\"/home/pelissier/These-ATER/Papier_international3/Code/Comparaison-User-study/Alignement/paths/bench_meshes_PBL.blend\")\n"
   ]
  },
  {
   "cell_type": "code",
   "execution_count": null,
   "metadata": {},
   "outputs": [],
   "source": [
    "import bpy\n",
    "# Angle de rotation à appliquer (en radians)\n",
    "rotation = (0, 0, 0)  # Exemple de rotation sur l'axe Z (90°)\n",
    "\n",
    "# Appliquer la rotation à plusieurs objets\n",
    "for obj in bpy.context.selected_objects:\n",
    "    if obj.type == 'MESH':  # Filtrer par type d'objet (ici les objets de type mesh)\n",
    "        obj.rotation_euler = rotation"
   ]
  },
  {
   "cell_type": "code",
   "execution_count": null,
   "metadata": {},
   "outputs": [],
   "source": []
  }
 ],
 "metadata": {
  "kernelspec": {
   "display_name": "blender_env",
   "language": "python",
   "name": "python3"
  },
  "language_info": {
   "codemirror_mode": {
    "name": "ipython",
    "version": 3
   },
   "file_extension": ".py",
   "mimetype": "text/x-python",
   "name": "python",
   "nbconvert_exporter": "python",
   "pygments_lexer": "ipython3",
   "version": "3.10.15"
  }
 },
 "nbformat": 4,
 "nbformat_minor": 2
}
