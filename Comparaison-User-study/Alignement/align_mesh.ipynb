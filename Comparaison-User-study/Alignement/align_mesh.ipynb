{
 "cells": [
  {
   "cell_type": "markdown",
   "metadata": {},
   "source": [
    "`open3d_env`"
   ]
  },
  {
   "cell_type": "code",
   "execution_count": 1,
   "metadata": {},
   "outputs": [],
   "source": [
    "import numpy as np \n",
    "from scipy.spatial import KDTree\n",
    "import trimesh\n",
    "import glob\n",
    "import os\n",
    "from sklearn.decomposition import PCA\n",
    "import tqdm\n",
    "import pickle\n",
    "\n",
    "import sys\n",
    "sys.path.append('/home/pelissier/These-ATER/Papier_international3/Dataset')  # Adjust the path based on the relative location\n",
    "from utils import *"
   ]
  },
  {
   "cell_type": "code",
   "execution_count": 2,
   "metadata": {},
   "outputs": [],
   "source": [
    "dir_mesh_aligned = \"/home/pelissier/These-ATER/Papier_international3/Code/Comparaison-User-study/Alignement/Dataset-aligned\""
   ]
  },
  {
   "cell_type": "code",
   "execution_count": null,
   "metadata": {},
   "outputs": [],
   "source": [
    "def read_pkl(dict_path):\n",
    "    output = open(dict_path,'rb')\n",
    "    dict = pickle.load(output)\n",
    "    return dict\n",
    "\n",
    "def create_rotation_matrix(axis, angle_degrees):\n",
    "    # Convertir l'angle en radians\n",
    "    angle_radians = np.radians(angle_degrees)\n",
    "    # Déterminer le vecteur de direction en fonction de l'axe\n",
    "    if axis.upper() == 'X':    direction = [1, 0, 0]\n",
    "    elif axis.upper() == 'Y':  direction = [0, 1, 0]\n",
    "    elif axis.upper() == 'Z':  direction = [0, 0, 1]\n",
    "    else: raise ValueError(\"L'axe doit être 'X', 'Y' ou 'Z'.\")\n",
    "    # Créer la matrice de rotation\n",
    "    rotation_matrix = trimesh.transformations.rotation_matrix(\n",
    "        angle=angle_radians,  # Angle en radians\n",
    "        direction=direction,  # Axe de rotation\n",
    "        point=[0, 0, 0])  # Centre de rotation (origine)\n",
    "    return rotation_matrix"
   ]
  },
  {
   "cell_type": "markdown",
   "metadata": {},
   "source": [
    "## ACP"
   ]
  },
  {
   "cell_type": "code",
   "execution_count": null,
   "metadata": {},
   "outputs": [],
   "source": [
    "def run_acp(mesh, aff= False):\n",
    "    \"Mesh est un Trimesh\"\n",
    "    # Extract vertices\n",
    "    vertices = np.array(mesh.vertices)\n",
    "    center = np.mean(vertices, axis=0)\n",
    "\n",
    "    # Compute the covariance matrix\n",
    "    cov_matrix = np.cov(vertices.T)\n",
    "\n",
    "    # Perform eigen decomposition\n",
    "    eigenvalues, eigenvectors = np.linalg.eigh(cov_matrix)\n",
    "\n",
    "    # Sort eigenvectors by eigenvalues (descending order)\n",
    "    sorted_indices = np.argsort(eigenvalues)[::-1]\n",
    "    eigenvalues = eigenvalues[sorted_indices]\n",
    "    eigenvectors = eigenvectors[:, sorted_indices]\n",
    "\n",
    "    # Principal axes are the eigenvectors\n",
    "    principal_axes = eigenvectors\n",
    "\n",
    "    # Print results\n",
    "    if aff:\n",
    "        print(\"Eigenvalues:\", eigenvalues)\n",
    "        print(\"Principal Axes (Eigenvectors):\\n\", principal_axes)\n",
    "\n",
    "        # Visualize the principal axes (optional)\n",
    "        # Each eigenvector is scaled by its eigenvalue for visualization\n",
    "        for i, axis in enumerate(principal_axes.T):\n",
    "            print(f\"Principal Axis {i + 1}: {axis}\")\n",
    "        \n",
    "    return eigenvalues, center, eigenvectors\n",
    "\n",
    "def angle_between_vectors(u, v):\n",
    "    # Calcul du produit scalaire\n",
    "    dot_product = np.dot(u, v)\n",
    "    # Calcul des normes\n",
    "    norm_u = np.linalg.norm(u)\n",
    "    norm_v = np.linalg.norm(v)\n",
    "    # Calcul de l'angle en radians\n",
    "    cos_theta = dot_product / (norm_u * norm_v)\n",
    "    # Clamp pour éviter les erreurs dues aux approximations numériques\n",
    "    cos_theta = np.clip(cos_theta, -1.0, 1.0)\n",
    "    angle_rad = np.arccos(cos_theta)\n",
    "    # Conversion en degrés\n",
    "    angle_deg = np.degrees(angle_rad)\n",
    "    return angle_deg\n",
    "\n",
    "def align_principal_axes(mesh1_axes, mesh2_axes, mesh2):\n",
    "    \"\"\"\n",
    "    Align the first principal axes of two meshes while keeping the third axes collinear.\n",
    "    \n",
    "    Parameters:\n",
    "        mesh1_axes (np.ndarray): Principal axes of the first mesh (3x3 matrix).\n",
    "        mesh2_axes (np.ndarray): Principal axes of the second mesh (3x3 matrix).\n",
    "        vertices2 (np.ndarray): Vertices of the second mesh (Nx3 matrix).\n",
    "        \n",
    "    Returns:\n",
    "        np.ndarray: Transformed vertices of the second mesh.\n",
    "    \"\"\"\n",
    "    # Extract third principal axes\n",
    "    v3_1 = mesh1_axes[:, 2]\n",
    "    v3_2 = mesh2_axes[:, 2]\n",
    "\n",
    "    # Ensure the third axes are aligned\n",
    "    angle = abs(angle_between_vectors(v3_1, v3_2))\n",
    "    if ((angle > 30) and ((angle < 150) or (angle > 210))) :\n",
    "        raise ValueError(\"Third principal axes are not collinear. Pre-align them before using this function.\")\n",
    "\n",
    "    # Project the first axis of mesh1 onto the plane orthogonal to v3_1\n",
    "    v1_1 = mesh1_axes[:, 0]\n",
    "    v1_1_proj = v1_1 - np.dot(v1_1, v3_1) * v3_1\n",
    "    v1_1_proj /= np.linalg.norm(v1_1_proj)\n",
    "\n",
    "    # Get the first axis of mesh2\n",
    "    v1_2 = mesh2_axes[:, 0]\n",
    "\n",
    "    # Compute the rotation angle to align v1_2 with v1_1_proj in the plane orthogonal to v3_1\n",
    "    cos_theta = np.dot(v1_2, v1_1_proj)\n",
    "    sin_theta = np.linalg.norm(np.cross(v1_2, v1_1_proj))\n",
    "\n",
    "    # Compute the rotation matrix around v3_1\n",
    "    v3_cross = np.array([\n",
    "        [0, -v3_1[2], v3_1[1]],\n",
    "        [v3_1[2], 0, -v3_1[0]],\n",
    "        [-v3_1[1], v3_1[0], 0]\n",
    "    ])\n",
    "    rotation_matrix = (\n",
    "        np.eye(3)\n",
    "        + sin_theta * v3_cross\n",
    "        + (1 - cos_theta) * np.dot(v3_cross, v3_cross)\n",
    "    )\n",
    "\n",
    "    # Apply the rotation to the vertices of the second mesh\n",
    "    transformed_vertices2 = np.dot(mesh2.vertices, rotation_matrix.T)\n",
    "    \n",
    "    # Create a new mesh with rotated vertices\n",
    "    aligned_mesh2 = trimesh.Trimesh(vertices=transformed_vertices2, faces=mesh2.faces)\n",
    "\n",
    "    return aligned_mesh2"
   ]
  },
  {
   "cell_type": "code",
   "execution_count": null,
   "metadata": {},
   "outputs": [],
   "source": [
    "paths_mesh_iso = files = glob.glob(os.path.join(\"/home/pelissier/These-ATER/Papier_international3/Dataset/ModelNet40_remeshing_iso/car/\", \"**\", \"*.obj\"), recursive=True); print(len(paths_mesh_iso))\n",
    "#paths_mesh_to_rotate = [path for path in paths_mesh_to_rotate if \"0001\" in path]; print(len(paths_mesh_to_rotate), paths_mesh_to_rotate)"
   ]
  },
  {
   "cell_type": "code",
   "execution_count": null,
   "metadata": {},
   "outputs": [],
   "source": [
    "## Load the meshes\n",
    "# Mesh source : par défaut le premier de la liste\n",
    "path_mesh_source = paths_mesh_iso[0]; print(path_mesh_source)\n",
    "mesh_source = trimesh.load(path_mesh_source, process=False)\n",
    "# ACP mesh source\n",
    "_, _, eigenvectors_source = run_acp(mesh_source, aff=False)\n",
    "# Save mesh source\n",
    "directory, name = os.path.split(path_mesh_source)\n",
    "categorie, type = get_info_path(path_mesh_source)\n",
    "mesh_source.export(os.path.join(dir_mesh_aligned, categorie, type, name.replace(\".obj\", \"_aligned.obj\")))\n",
    "with open(\"/home/pelissier/These-ATER/Papier_international3/Code/Comparaison-User-study/Alignement/Dataset-aligned/\"+categorie+\"/\"+categorie+\"_source_mesh.txt\", \"w\") as file: file.write(path_mesh_source)\n",
    "paths_mesh_to_rotate = paths_mesh_iso[1:]\n",
    "\n",
    "pbl = []\n",
    "for path_mesh_to_rotate in tqdm.tqdm(paths_mesh_to_rotate[:0]):\n",
    "    try : \n",
    "        # Load the meshes\n",
    "        mesh2_to_rotate = trimesh.load(path_mesh_to_rotate, process=False)\n",
    "        num = os.path.basename(path_mesh_to_rotate).split(\"_\")[1]\n",
    "        # ACP mesh_to_rotate\n",
    "        _, _, eigenvectors_to_rotate = run_acp(mesh2_to_rotate, aff=False)\n",
    "        # Align mesh2 to mesh1\n",
    "        aligned_mesh2 = align_principal_axes(eigenvectors_source, eigenvectors_to_rotate, mesh2_to_rotate)\n",
    "        # Save the aligned mesh\n",
    "        directory, name = os.path.split(path_mesh_to_rotate)\n",
    "        categorie, type = get_info_path(path_mesh_to_rotate)\n",
    "        aligned_mesh2.export(os.path.join(dir_mesh_aligned, categorie, type, name.replace(\".obj\", \"_aligned.obj\")))\n",
    "        \n",
    "    except Exception as e:\n",
    "        pbl.append(path_mesh_to_rotate)\n",
    "        directory, name = os.path.split(path_mesh_to_rotate)\n",
    "        categorie, type = get_info_path(path_mesh_to_rotate)\n",
    "        mesh2_to_rotate.export(os.path.join(dir_mesh_aligned, categorie, type, name.replace(\".obj\", \"_aligned-PBL.obj\")))\n",
    "\n",
    "print(len(pbl), pbl)     "
   ]
  },
  {
   "cell_type": "code",
   "execution_count": null,
   "metadata": {},
   "outputs": [],
   "source": [
    "paths_mesh_iso[0]"
   ]
  },
  {
   "cell_type": "markdown",
   "metadata": {},
   "source": [
    "Toutes (quasiment) les voitures sont alignées), il faut verifier les orientations devant/derrière"
   ]
  },
  {
   "cell_type": "markdown",
   "metadata": {},
   "source": [
    "### Debug"
   ]
  },
  {
   "cell_type": "code",
   "execution_count": null,
   "metadata": {},
   "outputs": [],
   "source": [
    "# Load the meshes\n",
    "path_mesh_source = path_mesh_source\n",
    "path_mesh_target = [path for path in paths_mesh_to_rotate if \"0236\" in path][0]; print(path_mesh_target)"
   ]
  },
  {
   "cell_type": "code",
   "execution_count": null,
   "metadata": {},
   "outputs": [],
   "source": [
    "# Load the mesh\n",
    "mesh_target = trimesh.load(path_mesh_target, process=False)\n",
    "mesh_source = trimesh.load(path_mesh_source, process=False)\n",
    "\n",
    "# ACP \n",
    "eigenvalues_source, center_source, eigenvectors_source = run_acp(mesh_source, aff=False)\n",
    "eigenvalues_target, center_target, eigenvectors_target = run_acp(mesh_target, aff=False)\n",
    "\n",
    "# Create a Trimesh scene\n",
    "scene = trimesh.Scene()\n",
    "scene.add_geometry(mesh_source)\n",
    "scene.add_geometry(mesh_target)\n",
    "\n",
    "# Scale the axes for visualization\n",
    "axis_length = np.max(eigenvalues_source) * 6  # Scale factor\n",
    "scaled_axes_source = eigenvectors_source.T * axis_length\n",
    "\n",
    "# Add principal axes to the scene\n",
    "colors = [[255, 0, 0, 255], [0, 255, 0, 255], [0, 0, 255, 255]]  # RGBA for X, Y, Z\n",
    "for i, axis in enumerate(scaled_axes_source):\n",
    "    start_point = center_source\n",
    "    end_point = center_source + axis\n",
    "    line = trimesh.load_path(np.array([start_point, end_point]))\n",
    "    line.colors = np.array([colors[i]])  # Assign a single color per line\n",
    "    scene.add_geometry(line)\n",
    "\n",
    "# Scale the axes for visualization\n",
    "axis_length = np.max(eigenvalues_target) * 6  # Scale factor\n",
    "scaled_axes_target= eigenvectors_target.T * axis_length\n",
    "\n",
    "# Add principal axes to the scene\n",
    "colors = [[255, 0, 255, 255], [0, 255, 255, 255], [255, 255, 0, 255]]  # RGBA for X, Y, Z\n",
    "for i, axis in enumerate(scaled_axes_target):\n",
    "    start_point = center_target\n",
    "    end_point = center_target + axis\n",
    "    line = trimesh.load_path(np.array([start_point, end_point]))\n",
    "    line.colors = np.array([colors[i]])  # Assign a single color per line\n",
    "    scene.add_geometry(line)\n",
    "    \n",
    "    \n",
    "## test alignement\n",
    "try :\n",
    "    mesh_target_align = align_principal_axes(eigenvectors_source, eigenvectors_target, mesh_target)\n",
    "    mesh_target_align.apply_translation(np.array([1, 1, 1]))\n",
    "    scene.add_geometry(mesh_target_align)\n",
    "except Exception as e: print(e)\n",
    "\n",
    "# Show the scene\n",
    "#scene.show()"
   ]
  },
  {
   "cell_type": "markdown",
   "metadata": {},
   "source": [
    "## Rotation 180°\n"
   ]
  },
  {
   "cell_type": "code",
   "execution_count": null,
   "metadata": {},
   "outputs": [
    {
     "name": "stdout",
     "output_type": "stream",
     "text": [
      "(4, 4)\n"
     ]
    }
   ],
   "source": [
    "# Matrice de rotation de 180° autour de l'axe Z\n",
    "rotation_matrix = trimesh.transformations.rotation_matrix(\n",
    "    angle=np.pi,  # 180° en radians\n",
    "    direction=[0, 0, 1],  # Axe Z\n",
    "    point=[0, 0, 0]  # Centre de rotation (origine)\n",
    ")\n",
    "print(rotation_matrix.shape)"
   ]
  },
  {
   "cell_type": "markdown",
   "metadata": {},
   "source": [
    "### ROTATION 180° autour de Z"
   ]
  },
  {
   "cell_type": "code",
   "execution_count": 4,
   "metadata": {},
   "outputs": [
    {
     "name": "stdout",
     "output_type": "stream",
     "text": [
      "172\n",
      "3\n",
      "297\n"
     ]
    },
    {
     "name": "stderr",
     "output_type": "stream",
     "text": [
      "0it [00:00, ?it/s]\n"
     ]
    }
   ],
   "source": [
    "mesh_to_rotate_180 = read_paths_from_txt('/home/pelissier/These-ATER/Papier_international3/Code/Comparaison-User-study/Alignement/paths/car_meshes_not_aligned.txt'); print(len(mesh_to_rotate_180))\n",
    "mesh_pbl = read_paths_from_txt('/home/pelissier/These-ATER/Papier_international3/Code/Comparaison-User-study/Alignement/paths/car_meshes_PBL.txt'); print(len(mesh_pbl))\n",
    "all_mesh_aligned = read_paths_from_txt('//home/pelissier/These-ATER/Papier_international3/Code/Comparaison-User-study/Alignement/paths/paths_aligned_car.txt'); print(len(all_mesh_aligned))\n",
    "\n",
    "for mesh_path in tqdm.tqdm(all_mesh_aligned[:0]):\n",
    "    #try:\n",
    "    if True:\n",
    "        mesh = trimesh.load(mesh_path.replace('Dataset-aligned', dir_mesh_aligned))\n",
    "        if mesh_path in mesh_to_rotate_180:\n",
    "            # # Appliquer la rotation\n",
    "            # mesh.apply_transform(rotation_matrix)\n",
    "            # # Sauvegarder le mesh transformé\n",
    "            # mesh.export(mesh_path.replace('Dataset-aligned', dir_mesh_aligned).replace('.obj', '_ok.obj'))\n",
    "            # # Sauvegarde transformatison\n",
    "            # metadata = {'transformations1': rotation_matrix}            \n",
    "            # with open(mesh_path.replace('Dataset-aligned', dir_mesh_aligned).replace('.obj', '_ok.pkl'), \"wb\") as f: pickle.dump(metadata, f)\n",
    "            continue\n",
    "            \n",
    "        elif mesh_path in mesh_pbl: continue\n",
    "            #mesh.export(mesh_path.replace('Dataset-aligned', dir_mesh_aligned).replace('.obj', '_PBL.obj'))\n",
    "            \n",
    "        else : continue\n",
    "            #mesh.export(mesh_path.replace('Dataset-aligned', dir_mesh_aligned).replace('.obj', '_ok.obj'))\n",
    "            # metadata = {'transformations1': np.eye(4)}            \n",
    "            # with open(mesh_path.replace('Dataset-aligned', dir_mesh_aligned).replace('.obj', '_ok.pkl'), \"wb\") as f: pickle.dump(metadata, f)"
   ]
  },
  {
   "cell_type": "code",
   "execution_count": 7,
   "metadata": {},
   "outputs": [
    {
     "name": "stdout",
     "output_type": "stream",
     "text": [
      "{'transformations1': array([[1., 0., 0., 0.],\n",
      "       [0., 1., 0., 0.],\n",
      "       [0., 0., 1., 0.],\n",
      "       [0., 0., 0., 1.]])} {'transformations1': array([[-1.0000000e+00, -1.2246468e-16,  0.0000000e+00,  0.0000000e+00],\n",
      "       [ 1.2246468e-16, -1.0000000e+00,  0.0000000e+00,  0.0000000e+00],\n",
      "       [ 0.0000000e+00,  0.0000000e+00,  1.0000000e+00,  0.0000000e+00],\n",
      "       [ 0.0000000e+00,  0.0000000e+00,  0.0000000e+00,  1.0000000e+00]])}\n"
     ]
    }
   ],
   "source": [
    "# modele de ref donc Identité et un autre modele\n",
    "print(read_pkl('/home/pelissier/These-ATER/Papier_international3/Code/Comparaison-User-study/Alignement/Dataset-aligned/car/test/car_0229_SMPLER_centered_scaled_remeshing_iso_iter5_aligned_us_ok.pkl'),\n",
    "read_pkl('/home/pelissier/These-ATER/Papier_international3/Code/Comparaison-User-study/Alignement/Dataset-aligned/car/train/car_0192_SMPLER_centered_scaled_remeshing_iso_iter6_aligned_us_ok.pkl'))"
   ]
  },
  {
   "cell_type": "markdown",
   "metadata": {},
   "source": [
    "### Cas particulier"
   ]
  },
  {
   "cell_type": "markdown",
   "metadata": {},
   "source": [
    "Juste une rotation de 180° autour de Z"
   ]
  },
  {
   "cell_type": "code",
   "execution_count": 8,
   "metadata": {},
   "outputs": [
    {
     "name": "stderr",
     "output_type": "stream",
     "text": [
      "0it [00:00, ?it/s]\n"
     ]
    }
   ],
   "source": [
    "## Rotation 180°\n",
    "num_to_rotate = ['0192', '0181']\n",
    "\n",
    "paths_mesh_to_rotate = read_paths_from_txt('/home/pelissier/These-ATER/Papier_international3/Code/Comparaison-User-study/Alignement/paths/car_meshes_not_aligned_ok1.txt')\n",
    "\n",
    "# Matrice de rotation de 180° autour de l'axe Z\n",
    "for mesh_path in tqdm.tqdm(paths_mesh_to_rotate[:0]):\n",
    "    mesh = trimesh.load(mesh_path.replace('Dataset-aligned', dir_mesh_aligned))\n",
    "    # Appliquer la rotation\n",
    "    mesh.apply_transform(rotation_matrix)\n",
    "    # Sauvegarder le mesh transformé\n",
    "    mesh.export(mesh_path.replace('Dataset-aligned', dir_mesh_aligned))\n",
    "    # metadata = {'transformations1': rotation_matrix}            \n",
    "    # with open(mesh_path.replace('Dataset-aligned', dir_mesh_aligned).replace('.obj', '_ok.pkl'), \"wb\") as f: pickle.dump(metadata, f)"
   ]
  },
  {
   "cell_type": "markdown",
   "metadata": {},
   "source": [
    "Regarder test/0236 Train/0021 et 0070"
   ]
  },
  {
   "cell_type": "code",
   "execution_count": 9,
   "metadata": {},
   "outputs": [
    {
     "name": "stdout",
     "output_type": "stream",
     "text": [
      "3\n"
     ]
    },
    {
     "data": {
      "text/plain": [
       "['Dataset-aligned/car/test/car_0236_SMPLER_centered_scaled_remeshing_iso_iter4_aligned_us-PBL.obj',\n",
       " 'Dataset-aligned/car/train/car_0021_SMPLER_centered_scaled_remeshing_iso_iter5_aligned_us.obj',\n",
       " 'Dataset-aligned/car/train/car_0070_SMPLER_centered_scaled_remeshing_iso_iter5_aligned_us.obj']"
      ]
     },
     "execution_count": 9,
     "metadata": {},
     "output_type": "execute_result"
    }
   ],
   "source": [
    "## Rotation 180°\n",
    "paths_mesh_PBL = read_paths_from_txt('/home/pelissier/These-ATER/Papier_international3/Code/Comparaison-User-study/Alignement/paths/car_meshes_PBL.txt'); print(len(paths_mesh_PBL))\n",
    "paths_mesh_PBL"
   ]
  },
  {
   "cell_type": "code",
   "execution_count": null,
   "metadata": {},
   "outputs": [],
   "source": [
    "mesh_path =  'Dataset-aligned/car/train/car_0070_SMPLER_centered_scaled_remeshing_iso_iter5_aligned_us.obj'\n",
    "# Appliquer la rotation\n",
    "mesh = trimesh.load(mesh_path.replace('Dataset-aligned', dir_mesh_aligned))\n",
    "matrix = create_rotation_matrix('Z', 240)\n",
    "#mesh.apply_transform(matrix)\n",
    "# #Sauvegarder le mesh transformé\n",
    "# mesh.export(mesh_path.replace('Dataset-aligned', dir_mesh_aligned).replace('.obj', '_ok.obj'))\n",
    "# # Sauvegarde transformatison\n",
    "# metadata = {'transformations1': matrix}            \n",
    "# with open(mesh_path.replace('Dataset-aligned', dir_mesh_aligned).replace('.obj', '_ok.pkl'), \"wb\") as f: pickle.dump(metadata, f)"
   ]
  },
  {
   "cell_type": "markdown",
   "metadata": {},
   "source": [
    "## Alignement avec US"
   ]
  },
  {
   "cell_type": "markdown",
   "metadata": {},
   "source": []
  }
 ],
 "metadata": {
  "kernelspec": {
   "display_name": "open3d_env",
   "language": "python",
   "name": "python3"
  },
  "language_info": {
   "codemirror_mode": {
    "name": "ipython",
    "version": 3
   },
   "file_extension": ".py",
   "mimetype": "text/x-python",
   "name": "python",
   "nbconvert_exporter": "python",
   "pygments_lexer": "ipython3",
   "version": "3.10.15"
  }
 },
 "nbformat": 4,
 "nbformat_minor": 2
}
