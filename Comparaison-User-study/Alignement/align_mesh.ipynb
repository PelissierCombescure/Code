{
 "cells": [
  {
   "cell_type": "markdown",
   "metadata": {},
   "source": [
    "`open3d_env`"
   ]
  },
  {
   "cell_type": "code",
   "execution_count": 1,
   "metadata": {},
   "outputs": [],
   "source": [
    "import numpy as np \n",
    "from scipy.spatial import KDTree\n",
    "import trimesh\n",
    "import glob\n",
    "import os\n",
    "from sklearn.decomposition import PCA\n",
    "import tqdm\n",
    "import pickle\n",
    "import pandas as pd\n",
    "\n",
    "import sys\n",
    "sys.path.append('/home/pelissier/These-ATER/Papier_international3/Dataset')  # Adjust the path based on the relative location\n",
    "from utils import *\n",
    "sys.path.append('/home/pelissier/These-ATER/Papier_international3/Code')  # Adjust the path based on the relative location\n",
    "from utils_comparaison import *"
   ]
  },
  {
   "cell_type": "code",
   "execution_count": 2,
   "metadata": {},
   "outputs": [],
   "source": [
    "dir_mesh_aligned = \"/home/pelissier/These-ATER/Papier_international3/Code/Comparaison-User-study/Alignement/Dataset-aligned\""
   ]
  },
  {
   "cell_type": "markdown",
   "metadata": {},
   "source": [
    "## ACP"
   ]
  },
  {
   "cell_type": "code",
   "execution_count": 3,
   "metadata": {},
   "outputs": [],
   "source": [
    "def run_acp(mesh, aff= False):\n",
    "    \"Mesh est un Trimesh\"\n",
    "    # Extract vertices\n",
    "    vertices = np.array(mesh.vertices)\n",
    "    center = np.mean(vertices, axis=0)\n",
    "\n",
    "    # Compute the covariance matrix\n",
    "    cov_matrix = np.cov(vertices.T)\n",
    "\n",
    "    # Perform eigen decomposition\n",
    "    eigenvalues, eigenvectors = np.linalg.eigh(cov_matrix)\n",
    "\n",
    "    # Sort eigenvectors by eigenvalues (descending order)\n",
    "    sorted_indices = np.argsort(eigenvalues)[::-1]\n",
    "    eigenvalues = eigenvalues[sorted_indices]\n",
    "    eigenvectors = eigenvectors[:, sorted_indices]\n",
    "\n",
    "    # Principal axes are the eigenvectors\n",
    "    principal_axes = eigenvectors\n",
    "\n",
    "    # Print results\n",
    "    if aff:\n",
    "        print(\"Eigenvalues:\", eigenvalues)\n",
    "        print(\"Principal Axes (Eigenvectors):\\n\", principal_axes)\n",
    "\n",
    "        # Visualize the principal axes (optional)\n",
    "        # Each eigenvector is scaled by its eigenvalue for visualization\n",
    "        for i, axis in enumerate(principal_axes.T):\n",
    "            print(f\"Principal Axis {i + 1}: {axis}\")\n",
    "        \n",
    "    return eigenvalues, center, eigenvectors\n",
    "\n",
    "def angle_between_vectors(u, v):\n",
    "    # Calcul du produit scalaire\n",
    "    dot_product = np.dot(u, v)\n",
    "    # Calcul des normes\n",
    "    norm_u = np.linalg.norm(u)\n",
    "    norm_v = np.linalg.norm(v)\n",
    "    # Calcul de l'angle en radians\n",
    "    cos_theta = dot_product / (norm_u * norm_v)\n",
    "    # Clamp pour éviter les erreurs dues aux approximations numériques\n",
    "    cos_theta = np.clip(cos_theta, -1.0, 1.0)\n",
    "    angle_rad = np.arccos(cos_theta)\n",
    "    # Conversion en degrés\n",
    "    angle_deg = np.degrees(angle_rad)\n",
    "    return angle_deg\n",
    "\n",
    "def align_principal_axes(mesh1_axes, mesh2_axes, mesh2):\n",
    "    \"\"\"\n",
    "    Align the first principal axes of two meshes while keeping the third axes collinear.\n",
    "    \n",
    "    Parameters:\n",
    "        mesh1_axes (np.ndarray): Principal axes of the first mesh (3x3 matrix).\n",
    "        mesh2_axes (np.ndarray): Principal axes of the second mesh (3x3 matrix).\n",
    "        vertices2 (np.ndarray): Vertices of the second mesh (Nx3 matrix).\n",
    "        \n",
    "    Returns:\n",
    "        np.ndarray: Transformed vertices of the second mesh.\n",
    "    \"\"\"\n",
    "    # Extract third principal axes\n",
    "    v3_1 = mesh1_axes[:, 2]\n",
    "    v3_2 = mesh2_axes[:, 2]\n",
    "\n",
    "    # Ensure the third axes are aligned\n",
    "    # angle = abs(angle_between_vectors(v3_1, v3_2))\n",
    "    # if ((angle > 30) and ((angle < 150) or (angle > 210))) :\n",
    "    #     raise ValueError(\"Third principal axes are not collinear. Pre-align them before using this function.\")\n",
    "\n",
    "    # Project the first axis of mesh1 onto the plane orthogonal to v3_1\n",
    "    v1_1 = mesh1_axes[:, 0]\n",
    "    v1_1_proj = v1_1 - np.dot(v1_1, v3_1) * v3_1\n",
    "    v1_1_proj /= np.linalg.norm(v1_1_proj)\n",
    "\n",
    "    # Get the first axis of mesh2\n",
    "    v1_2 = mesh2_axes[:, 0]\n",
    "\n",
    "    # Compute the rotation angle to align v1_2 with v1_1_proj in the plane orthogonal to v3_1\n",
    "    cos_theta = np.dot(v1_2, v1_1_proj)\n",
    "    sin_theta = np.linalg.norm(np.cross(v1_2, v1_1_proj))\n",
    "\n",
    "    # Compute the rotation matrix around v3_1\n",
    "    v3_cross = np.array([\n",
    "        [0, -v3_1[2], v3_1[1]],\n",
    "        [v3_1[2], 0, -v3_1[0]],\n",
    "        [-v3_1[1], v3_1[0], 0]\n",
    "    ])\n",
    "    rotation_matrix = (\n",
    "        np.eye(3)\n",
    "        + sin_theta * v3_cross\n",
    "        + (1 - cos_theta) * np.dot(v3_cross, v3_cross)\n",
    "    )\n",
    "\n",
    "    # Apply the rotation to the vertices of the second mesh\n",
    "    transformed_vertices2 = np.dot(mesh2.vertices, rotation_matrix.T)\n",
    "    \n",
    "    # Create a new mesh with rotated vertices\n",
    "    aligned_mesh2 = trimesh.Trimesh(vertices=transformed_vertices2, faces=mesh2.faces)\n",
    "\n",
    "    return aligned_mesh2, rotation_matrix\n",
    "\n",
    "\n",
    "def align_principal_axes2(mesh1, mesh2):\n",
    "    \"\"\"\n",
    "    Align the first principal axes of two meshes using rotation around the Z-axis.\n",
    "    \n",
    "    Parameters:\n",
    "        mesh1_vertices (ndarray): Nx3 array of vertices for the first mesh.\n",
    "        mesh2_vertices (ndarray): Nx3 array of vertices for the second mesh.\n",
    "        \n",
    "    Returns:\n",
    "        rotation_angle (float): Rotation angle in degrees for aligning mesh2 with mesh1.\n",
    "    \"\"\"\n",
    "    # Compute the principal axes for both meshes\n",
    "    _, _, eigenvectors1 = run_acp(mesh1)\n",
    "    _, _, eigenvectors2 = run_acp(mesh2)\n",
    "\n",
    "    # Extract the first principal axes\n",
    "    principal_axis1 = eigenvectors1[:, 0]\n",
    "    principal_axis2 = eigenvectors2[:, 0]\n",
    "\n",
    "    # Project the principal axes onto the XY plane\n",
    "    principal_axis1_xy = principal_axis1[:2]\n",
    "    principal_axis2_xy = principal_axis2[:2]\n",
    "\n",
    "    # Normalize the projected vectors\n",
    "    principal_axis1_xy /= np.linalg.norm(principal_axis1_xy)\n",
    "    principal_axis2_xy /= np.linalg.norm(principal_axis2_xy)\n",
    "\n",
    "    # Compute the signed angle between the two projected vectors\n",
    "    dot_product = np.dot(principal_axis1_xy, principal_axis2_xy)\n",
    "    cross_product = np.cross(np.append(principal_axis1_xy, 0), np.append(principal_axis2_xy, 0))[2]\n",
    "    angle_rad = np.arctan2(cross_product, dot_product)\n",
    "\n",
    "    # Convert the angle to degrees\n",
    "    rotation_angle = np.degrees(angle_rad)\n",
    "\n",
    "    return rotation_angle"
   ]
  },
  {
   "cell_type": "code",
   "execution_count": 4,
   "metadata": {},
   "outputs": [],
   "source": [
    "import numpy as np\n",
    "\n",
    "def signed_angle_between_vectors(u, v, normal=None):\n",
    "    \"\"\"\n",
    "    Compute the signed angle between two vectors u and v.\n",
    "    \n",
    "    Parameters:\n",
    "        u (array-like): First vector.\n",
    "        v (array-like): Second vector.\n",
    "        normal (array-like, optional): Normal vector to determine the sign (used for 3D).\n",
    "        \n",
    "    Returns:\n",
    "        angle_deg (float): Signed angle in degrees from u to v.\n",
    "    \"\"\"\n",
    "    # Calculate the dot product and norms\n",
    "    dot_product = np.dot(u, v)\n",
    "    norm_u = np.linalg.norm(u)\n",
    "    norm_v = np.linalg.norm(v)\n",
    "    \n",
    "    # Compute the cosine of the angle\n",
    "    cos_theta = dot_product / (norm_u * norm_v)\n",
    "    cos_theta = np.clip(cos_theta, -1.0, 1.0)  # Clamp for numerical stability\n",
    "    \n",
    "    # Calculate the angle in radians\n",
    "    angle_rad = np.arccos(cos_theta)\n",
    "    \n",
    "    # Determine the sign of the angle\n",
    "    if len(u) == 3 and len(v) == 3:  # 3D case\n",
    "        if normal is None:\n",
    "            raise ValueError(\"A normal vector is required for the 3D case to determine the sign.\")\n",
    "        cross_product = np.cross(u, v)\n",
    "        sign = np.sign(np.dot(cross_product, normal))\n",
    "    elif len(u) == 2 and len(v) == 2:  # 2D case\n",
    "        sign = np.sign(u[0]*v[1] - u[1]*v[0])  # Determinant for 2D\n",
    "    else:\n",
    "        raise ValueError(\"Vectors must be 2D or 3D.\")\n",
    "    \n",
    "    # Apply the sign to the angle\n",
    "    signed_angle_rad = sign * angle_rad\n",
    "    \n",
    "    # Convert to degrees\n",
    "    signed_angle_deg = np.degrees(signed_angle_rad)\n",
    "    \n",
    "    return signed_angle_deg\n"
   ]
  },
  {
   "cell_type": "code",
   "execution_count": 5,
   "metadata": {},
   "outputs": [
    {
     "name": "stdout",
     "output_type": "stream",
     "text": [
      "193\n",
      "/home/pelissier/These-ATER/Papier_international3/Dataset/ModelNet40_remeshing_iso/bench/test/bench_0189_SMPLER_centered_scaled_remeshing_iso_iter11.obj\n"
     ]
    }
   ],
   "source": [
    "paths_mesh_iso = files = glob.glob(os.path.join(\"/home/pelissier/These-ATER/Papier_international3/Dataset/ModelNet40_remeshing_iso/bench/\", \"**\", \"*.obj\"), recursive=True); print(len(paths_mesh_iso))\n",
    "\n",
    "## Load the meshes\n",
    "# Mesh source : par défaut le premier de la liste\n",
    "path_mesh_source = paths_mesh_iso[6]; print(path_mesh_source)\n",
    "paths_mesh_iso.pop(6)\n",
    "mesh_source = trimesh.load(path_mesh_source, process=False)\n",
    "# ACP mesh source\n",
    "_, _, eigenvectors_source = run_acp(mesh_source, aff=False)\n",
    "# Save mesh source\n",
    "directory, name = os.path.split(path_mesh_source)\n",
    "categorie, type = get_info_path(path_mesh_source)\n",
    "mesh_source.export(os.path.join(dir_mesh_aligned, categorie, type, name.replace(\".obj\", \"_aligned.obj\")))\n",
    "metadata = {'transformations0': np.eye(4)}            \n",
    "with open(os.path.join(dir_mesh_aligned, categorie, type, name.replace(\".obj\", \"_aligned.pkl\")), \"wb\") as f: pickle.dump(metadata, f)    \n",
    "with open(\"/home/pelissier/These-ATER/Papier_international3/Code/Comparaison-User-study/Alignement/Dataset-aligned/\"+categorie+\"/\"+categorie+\"_source_mesh.txt\", \"w\") as file: file.write(path_mesh_source)        \n"
   ]
  },
  {
   "cell_type": "code",
   "execution_count": 7,
   "metadata": {},
   "outputs": [
    {
     "name": "stdout",
     "output_type": "stream",
     "text": [
      "574\n"
     ]
    },
    {
     "name": "stderr",
     "output_type": "stream",
     "text": [
      "100%|██████████| 574/574 [02:00<00:00,  4.77it/s]"
     ]
    },
    {
     "name": "stdout",
     "output_type": "stream",
     "text": [
      "0 []\n"
     ]
    },
    {
     "name": "stderr",
     "output_type": "stream",
     "text": [
      "\n"
     ]
    }
   ],
   "source": [
    "# Les autres meshes à traiter \n",
    "paths_mesh_to_rotate = paths_mesh_iso[:]; print(len(paths_mesh_to_rotate))\n",
    "\n",
    "pbl = []\n",
    "for path_mesh_to_rotate in tqdm.tqdm(paths_mesh_to_rotate):\n",
    "    #try : \n",
    "    if True:\n",
    "        # Load the meshes\n",
    "        mesh2_to_rotate = trimesh.load(path_mesh_to_rotate, process=False)\n",
    "        num = os.path.basename(path_mesh_to_rotate).split(\"_\")[1]\n",
    "        directory, name = os.path.split(path_mesh_to_rotate)\n",
    "        categorie, type = get_info_path(path_mesh_to_rotate)\n",
    "        # ACP mesh_to_rotate\n",
    "        _, _, eigenvectors_to_rotate = run_acp(mesh2_to_rotate, aff=False)\n",
    "        \n",
    "        # Align mesh2 to mesh1\n",
    "        # ### option 1 : acp\n",
    "        # aligned_mesh2, matrix = align_principal_axes(eigenvectors_source, eigenvectors_to_rotate, mesh2_to_rotate)\n",
    "        # aligned_mesh2.export(os.path.join(dir_mesh_aligned, categorie, type, name.replace(\".obj\", \"_aligned.obj\")))\n",
    "        \n",
    "        ## option 2 : rotation\n",
    "        # matrix = create_rotation_matrix('Z', np.round(signed_angle_between_vectors(eigenvectors_source[:,0], eigenvectors_to_rotate[:,0], normal = np.array([0, 0, 1]))))\n",
    "        # mesh2_to_rotate.apply_transform(matrix)\n",
    "        # mesh2_to_rotate.export(os.path.join(dir_mesh_aligned, categorie, type, name.replace(\".obj\", \"_aligned.obj\")))\n",
    "\n",
    "        # Sauvegarde transformatison\n",
    "        # pour dresser et chair et night_stand tout à l'ai déjà aligné\n",
    "        mesh2_to_rotate.export(os.path.join(dir_mesh_aligned, categorie, type, name.replace(\".obj\", \"_aligned.obj\")))\n",
    "        matrix = np.eye(4) \n",
    "        \n",
    "        # Bench\n",
    "        # angle = align_principal_axes2(mesh_source, mesh2_to_rotate)\n",
    "        # matrix = create_rotation_matrix('Z', angle)\n",
    "        # mesh2_to_rotate.apply_transform(matrix)\n",
    "        # mesh2_to_rotate.export(os.path.join(dir_mesh_aligned, categorie, type, name.replace(\".obj\", \"_aligned.obj\")))\n",
    "        \n",
    "        # autre\n",
    "        metadata = {'transformations0': matrix}            \n",
    "        with open(os.path.join(dir_mesh_aligned, categorie, type, name.replace(\".obj\", \"_aligned.pkl\")), \"wb\") as f: pickle.dump(metadata, f)\n",
    "            \n",
    "    # except Exception as e:\n",
    "    #     pbl.append(path_mesh_to_rotate)\n",
    "    #     directory, name = os.path.split(path_mesh_to_rotate)\n",
    "    #     categorie, type = get_info_path(path_mesh_to_rotate)\n",
    "    #     mesh2_to_rotate.export(os.path.join(dir_mesh_aligned, categorie, type, name.replace(\".obj\", \"_aligned-PBL.obj\")))\n",
    "    #     metadata = {'transformations0': None}            \n",
    "    #     with open(path_mesh_to_rotate.replace('Dataset-aligned', dir_mesh_aligned).replace('.obj', '_aligned-PBL.pkl'), \"wb\") as f: pickle.dump(metadata, f)\n",
    "    \n",
    "\n",
    "print(len(pbl), pbl)     "
   ]
  },
  {
   "cell_type": "markdown",
   "metadata": {},
   "source": [
    "### Debug"
   ]
  },
  {
   "cell_type": "code",
   "execution_count": null,
   "metadata": {},
   "outputs": [],
   "source": [
    "# Load the meshes\n",
    "p_mesh_source = [path for path in paths_mesh_to_rotate if \"0100\" in path][0];  print(path_mesh_source)\n",
    "p_mesh_target = [path for path in paths_mesh_to_rotate if \"0068\" in path][0]; print(path_mesh_target)"
   ]
  },
  {
   "cell_type": "code",
   "execution_count": null,
   "metadata": {},
   "outputs": [],
   "source": [
    "# Load the mesh\n",
    "mesh_target = trimesh.load(p_mesh_target, process=False)\n",
    "m_source = trimesh.load(p_mesh_source, process=False)\n",
    "m_source.apply_translation(np.array([1,1,1]))\n",
    "\n",
    "# ACP \n",
    "eigenvalues_source, center_source, eigenvectors_source = run_acp(m_source, aff=False)\n",
    "eigenvalues_target, center_target, eigenvectors_target = run_acp(mesh_target, aff=False)\n",
    "\n",
    "\n",
    "# Create a Trimesh scene\n",
    "scene = trimesh.Scene()\n",
    "scene.add_geometry(m_source)\n",
    "scene.add_geometry(mesh_target)\n",
    "\n",
    "# Scale the axes for visualization\n",
    "axis_length = np.max(eigenvalues_source) * 10  # Scale factor\n",
    "scaled_axes_source = eigenvectors_source.T * axis_length\n",
    "\n",
    "# Add principal axes to the scene\n",
    "colors = [[255, 0, 0, 255], [0, 255, 0, 255], [0, 0, 255, 255]]  # RGBA for X, Y, Z\n",
    "for i, axis in enumerate(scaled_axes_source):\n",
    "    start_point = center_source\n",
    "    end_point = center_source + axis\n",
    "    line = trimesh.load_path(np.array([start_point, end_point]))\n",
    "    line.colors = np.array([colors[i]])  # Assign a single color per line\n",
    "    scene.add_geometry(line)\n",
    "\n",
    "# Scale the axes for visualization\n",
    "axis_length = np.max(eigenvalues_target) * 10  # Scale factor\n",
    "scaled_axes_target= eigenvectors_target.T * axis_length\n",
    "\n",
    "# Add principal axes to the scene\n",
    "colors = [[255, 0, 255, 255], [0, 255, 255, 255], [255, 255, 0, 255]]  # RGBA for X, Y, Z\n",
    "for i, axis in enumerate(scaled_axes_target):\n",
    "    start_point = center_target\n",
    "    end_point = center_target + axis\n",
    "    line = trimesh.load_path(np.array([start_point, end_point]))\n",
    "    line.colors = np.array([colors[i]])  # Assign a single color per line\n",
    "    scene.add_geometry(line)\n",
    "    \n",
    "    \n",
    "## test alignement\n",
    "mesh_target_align = mesh_target.copy()\n",
    "angle = align_principal_axes2(mesh_source, mesh_target)\n",
    "matrix = create_rotation_matrix('Z', angle)\n",
    "mesh_target_align.apply_transform(matrix)\n",
    "mesh_target_align.apply_translation(np.array([-2,2,2]))\n",
    "scene.add_geometry(mesh_target_align)\n",
    "\n",
    "# Show the scene\n",
    "scene.show()"
   ]
  },
  {
   "cell_type": "code",
   "execution_count": 9,
   "metadata": {},
   "outputs": [],
   "source": [
    "import trimesh\n",
    "\n",
    "# # Charger les maillages\n",
    "# mesh1 = mesh_source\n",
    "# mesh2 = mesh_target_align\n",
    "\n",
    "# # Vérifiez si les maillages sont des volumes\n",
    "# print(f\"Mesh1 est un volume : {mesh1.is_volume}\")\n",
    "# print(f\"Mesh2 est un volume : {mesh2.is_volume}\")\n",
    "\n",
    "# # Réparer les maillages s'ils ne sont pas des volumes\n",
    "# if not mesh1.is_volume:\n",
    "#     mesh1 = mesh1.fill_holes()\n",
    "#     print(\"Mesh1 a été réparé.\")\n",
    "\n",
    "# if not mesh2.is_volume:\n",
    "#     mesh2 = mesh2.fill_holes()\n",
    "#     print(\"Mesh2 a été réparé.\")\n",
    "\n",
    "# # Re-vérifiez après la réparation\n",
    "# print(f\"Mesh1 est maintenant un volume : {mesh1.is_volume}\")\n",
    "# print(f\"Mesh2 est maintenant un volume : {mesh2.is_volume}\")\n",
    "\n",
    "# Calculer l'intersection si les maillages sont maintenant étanches\n",
    "# if mesh1.is_volume and mesh2.is_volume:\n",
    "#     intersection = trimesh.boolean.intersection([mesh1, mesh2], engine='scad')  # Utilisez 'scad' si 'blender' pose problème\n",
    "#     if intersection.is_empty:\n",
    "#         print(\"Les maillages n'ont pas d'intersection.\")\n",
    "#     else:\n",
    "#         print(f\"Volume de l'intersection : {intersection.volume} unités cubiques.\")\n",
    "# else:\n",
    "#     print(\"Impossible de calculer l'intersection car les maillages ne sont pas des volumes fermés.\")\n"
   ]
  },
  {
   "cell_type": "code",
   "execution_count": null,
   "metadata": {},
   "outputs": [],
   "source": [
    "np.round(signed_angle_between_vectors(eigenvectors_source[:,2], eigenvectors_target[:,2], normal = np.array([0, 0, 1])))"
   ]
  },
  {
   "cell_type": "markdown",
   "metadata": {},
   "source": [
    "## Orientation ok\n"
   ]
  },
  {
   "cell_type": "code",
   "execution_count": 8,
   "metadata": {},
   "outputs": [
    {
     "name": "stdout",
     "output_type": "stream",
     "text": [
      "(4, 4)\n"
     ]
    }
   ],
   "source": [
    "# Matrice de rotation de 180° autour de l'axe Z\n",
    "rotation_matrix = trimesh.transformations.rotation_matrix(\n",
    "    angle=np.pi,  # 180° en radians\n",
    "    direction=[0, 0, 1],  # Axe Z\n",
    "    point=[0, 0, 0]  # Centre de rotation (origine)\n",
    ")\n",
    "print(rotation_matrix.shape)"
   ]
  },
  {
   "cell_type": "code",
   "execution_count": 11,
   "metadata": {},
   "outputs": [
    {
     "name": "stdout",
     "output_type": "stream",
     "text": [
      "575\n"
     ]
    },
    {
     "name": "stderr",
     "output_type": "stream",
     "text": [
      "100%|██████████| 575/575 [01:53<00:00,  5.09it/s]\n"
     ]
    }
   ],
   "source": [
    "mesh_to_rotate = []#read_paths_from_txt('/home/pelissier/These-ATER/Papier_international3/Code/Comparaison-User-study/Alignement/paths/night_stand_meshes_not_aligned.txt'); print(len(mesh_to_rotate))\n",
    "mesh_pbl = [] #read_paths_from_txt('/home/pelissier/These-ATER/Papier_international3/Code/Comparaison-User-study/Alignement/paths/chair_meshes_PBL.txt'); print(len(mesh_pbl))\n",
    "all_mesh_aligned = read_paths_from_txt('/home/pelissier/These-ATER/Papier_international3/Code/Comparaison-User-study/Alignement/paths/vase_meshes_aligned.txt'); print(len(all_mesh_aligned))\n",
    "\n",
    "# list_180 = ['0010','0014','0018','0020','0030','0038','0040','0044','0065', '0089', '0099', '0080', '0039', '0019', '0076']\n",
    "# list_90 = ['0052', '0057', '0067']\n",
    "# list_moins90 = ['0073', '0056', '0001']\n",
    "\n",
    "for mesh_path in tqdm.tqdm(all_mesh_aligned[:0]):\n",
    "    #try:\n",
    "    if False:\n",
    "        mesh = trimesh.load(mesh_path.replace('Dataset-aligned', dir_mesh_aligned))\n",
    "        num = os.path.basename(mesh_path).split(\"_\")[1]; passe = False\n",
    "        matrix_to_rotate = create_rotation_matrix('Z', 180)\n",
    "        if mesh_path in mesh_to_rotate: continue\n",
    "        #     if num in list_180:\n",
    "        #         matrix_to_rotate = create_rotation_matrix('Z', 180)\n",
    "        #     elif num in list_90:\n",
    "        #         matrix_to_rotate = create_rotation_matrix('Z', -90)\n",
    "        #     elif num in list_moins90:\n",
    "        #         matrix_to_rotate = create_rotation_matrix('Z', 90)\n",
    "        #     else : \n",
    "        #         passe = True\n",
    "            \n",
    "            #if not(passe):\n",
    "                #Appliquer la rotation\n",
    "                # print('t')\n",
    "                # mesh.apply_transform(matrix_to_rotate)\n",
    "                # mesh.export(mesh_path.replace('Dataset-aligned', dir_mesh_aligned).replace('.obj', '_ok.obj'))\n",
    "                # pkl_mesh = read_pkl(mesh_path.replace('Dataset-aligned', dir_mesh_aligned).replace('.obj', '.pkl'))\n",
    "                # pkl_mesh['transformations1'] = matrix_to_rotate     \n",
    "                # with open(mesh_path.replace('Dataset-aligned', dir_mesh_aligned).replace('.obj', '_ok.pkl'), \"wb\") as f: pickle.dump(pkl_mesh, f)\n",
    "                \n",
    "            \n",
    "        elif mesh_path in mesh_pbl: continue\n",
    "            #mesh.export(mesh_path.replace('Dataset-aligned', dir_mesh_aligned).replace('.obj', '_PBL.obj'))\n",
    "        \n",
    "        ## le mesh est déjà bien aligné\n",
    "        else : #continue\n",
    "            mesh.export(mesh_path.replace('Dataset-aligned', dir_mesh_aligned).replace('.obj', '_ok.obj'))\n",
    "            pkl_mesh = read_pkl(mesh_path.replace('Dataset-aligned', dir_mesh_aligned).replace('.obj', '.pkl'))\n",
    "            pkl_mesh['transformations1'] = np.eye(4)        \n",
    "            with open(mesh_path.replace('Dataset-aligned', dir_mesh_aligned).replace('.obj', '_ok.pkl'), \"wb\") as f: pickle.dump(pkl_mesh, f)\n",
    "            "
   ]
  },
  {
   "cell_type": "markdown",
   "metadata": {},
   "source": [
    "### Cas particulier"
   ]
  },
  {
   "cell_type": "code",
   "execution_count": null,
   "metadata": {},
   "outputs": [],
   "source": [
    "df_angle_pbl = pd.read_csv('/home/pelissier/These-ATER/Papier_international3/Code/Comparaison-User-study/Alignement/paths/chair_angle.csv')\n",
    "paths_pbl = df_angle_pbl['path'].values; print(len(paths_pbl))\n",
    "angles = df_angle_pbl['Z'].values; print(len(angles))\n",
    "df_angle_pbl"
   ]
  },
  {
   "cell_type": "code",
   "execution_count": null,
   "metadata": {},
   "outputs": [],
   "source": [
    "# for i in tqdm.tqdm(range(len(paths_pbl))):\n",
    "#     mesh_path = glob.glob(\"Dataset-aligned/chair/*/\"+paths_pbl[i], recursive=True)[0]\n",
    "#     mesh_pbl = trimesh.load(mesh_path.replace('Dataset-aligned', dir_mesh_aligned))\n",
    "#     matrix_to_rotate_pbl = create_rotation_matrix('Z', angles[i])\n",
    "#     mesh_pbl.apply_transform(matrix_to_rotate_pbl)\n",
    "#     mesh_pbl.export(mesh_path.replace('Dataset-aligned', dir_mesh_aligned).replace('.obj', '_ok.obj'))\n",
    "#     pkl_mesh = read_pkl(mesh_path.replace('Dataset-aligned', dir_mesh_aligned).replace('.obj', '.pkl'))\n",
    "#     pkl_mesh['transformations1'] = matrix_to_rotate_pbl     \n",
    "#     with open(mesh_path.replace('Dataset-aligned', dir_mesh_aligned).replace('.obj', '_ok.pkl'), \"wb\") as f: pickle.dump(pkl_mesh, f)"
   ]
  },
  {
   "cell_type": "code",
   "execution_count": 15,
   "metadata": {},
   "outputs": [],
   "source": [
    "# mesh_path_todo = \"Dataset-aligned/tv_stand/train/tv_stand_0144_SMPLER_centered_scaled_remeshing_iso_iter9_aligned.obj\"\n",
    "# mesh_todo = trimesh.load(mesh_path_todo.replace('Dataset-aligned', dir_mesh_aligned))\n",
    "# matrix_todo = create_rotation_matrix('X', 180)\n",
    "# mesh_todo.apply_transform(matrix_todo)\n",
    "# matrix_todo2 = create_rotation_matrix('Z', -90)\n",
    "# mesh_todo.apply_transform(matrix_todo2)\n",
    "# # obj\n",
    "# mesh_todo.export(mesh_path_todo.replace('Dataset-aligned', dir_mesh_aligned).replace('.obj', '_ok.obj'))\n",
    "# #pkl\n",
    "# pkl_mesh_todo = read_pkl(mesh_path_todo.replace('Dataset-aligned', dir_mesh_aligned).replace('.obj', '.pkl'))\n",
    "# pkl_mesh_todo['transformations1'] = matrix_todo   \n",
    "# pkl_mesh_todo['transformations2'] = matrix_todo2       \n",
    "# with open(mesh_path_todo.replace('Dataset-aligned', dir_mesh_aligned).replace('.obj', '_ok.pkl'), \"wb\") as f: pickle.dump(pkl_mesh_todo, f)"
   ]
  },
  {
   "cell_type": "markdown",
   "metadata": {},
   "source": [
    "> > > > Normalement, à ce stage tous les meshs sont bien alignés entre eux !!"
   ]
  },
  {
   "cell_type": "markdown",
   "metadata": {},
   "source": [
    "## Alignement avec US"
   ]
  },
  {
   "cell_type": "markdown",
   "metadata": {},
   "source": [
    "Car : ModelNet --> Rx -90° --> Ry 180° --> US \n",
    "\n",
    "Cup : ModelNet --> Rx -90° --> Ry 180° --> US \n",
    "\n",
    "Airplaine : ModelNet --> Rx -90° --> Ry 90° --> US \n",
    "\n",
    "dresser : ModelNet --> Rx -90° --> Ry 180° --> US \n",
    "\n",
    "tv_stand : ModelNet --> Rx -90° --> Ry 90° --> US \n",
    "\n",
    "bench : ModelNet --> Rx -90°  --> US \n",
    "\n",
    "chair : ModelNet --> Rx -90°  --> Ry 46° --> US \n",
    "\n",
    "night_stand : ModelNet --> Rx -90°  --> Ry 180° --> US "
   ]
  },
  {
   "cell_type": "code",
   "execution_count": 15,
   "metadata": {},
   "outputs": [
    {
     "name": "stdout",
     "output_type": "stream",
     "text": [
      "575\n"
     ]
    },
    {
     "name": "stderr",
     "output_type": "stream",
     "text": [
      "100%|██████████| 575/575 [01:49<00:00,  5.24it/s]\n"
     ]
    }
   ],
   "source": [
    "mesh_to_rotate = read_paths_from_txt('/home/pelissier/These-ATER/Papier_international3/Code/Comparaison-User-study/Alignement/paths/vase_meshes_aligned_ok.txt'); print(len(mesh_to_rotate))\n",
    "mesh_pbl = []#[\"Dataset-aligned/tv_stand/train/tv_stand_0144_SMPLER_centered_scaled_remeshing_iso_iter9_aligned_ok.obj\", \"Dataset-aligned/tv_stand/train/tv_stand_0122_SMPLER_centered_scaled_remeshing_iso_iter9_aligned_ok.obj\"]# read_paths_from_txt('/home/pelissier/These-ATER/Papier_international3/Code/Comparaison-User-study/Alignement/paths/car_meshes_PBL.txt'); print(len(mesh_pbl))\n",
    "\n",
    "\n",
    "for mesh_path in tqdm.tqdm(mesh_to_rotate):\n",
    "    #print(mesh_path)\n",
    "    #try:\n",
    "    if False:\n",
    "        mesh = trimesh.load(mesh_path.replace('Dataset-aligned', dir_mesh_aligned))\n",
    "        if mesh_path in mesh_to_rotate:\n",
    "            matrix1 = create_rotation_matrix('X', -100)\n",
    "            matrix2 = create_rotation_matrix('Y', -90)\n",
    "            matrix3 = create_rotation_matrix('Z', 8)\n",
    "            mesh.apply_transform(matrix1)\n",
    "            mesh.apply_transform(matrix2)\n",
    "            mesh.apply_transform(matrix3)\n",
    "            # # Sauvegarder le mesh transformé\n",
    "            mesh.export(mesh_path.replace('Dataset-aligned', dir_mesh_aligned).replace('.obj', '_US.obj'))\n",
    "            # Sauvegarde transformatison\n",
    "            mesh_pkl = read_pkl(mesh_path.replace('Dataset-aligned', dir_mesh_aligned).replace('.obj', '.pkl'))\n",
    "            mesh_pkl['transformations2'] = matrix1\n",
    "            mesh_pkl['transformations3'] = matrix2 \n",
    "            mesh_pkl['transformations4'] = matrix3 \n",
    "            with open(mesh_path.replace('Dataset-aligned', dir_mesh_aligned).replace('.obj', '_US.pkl'), \"wb\") as f: pickle.dump(mesh_pkl, f)\n",
    "            #continue\n"
   ]
  },
  {
   "cell_type": "code",
   "execution_count": null,
   "metadata": {},
   "outputs": [],
   "source": []
  }
 ],
 "metadata": {
  "kernelspec": {
   "display_name": "open3d_env",
   "language": "python",
   "name": "python3"
  },
  "language_info": {
   "codemirror_mode": {
    "name": "ipython",
    "version": 3
   },
   "file_extension": ".py",
   "mimetype": "text/x-python",
   "name": "python",
   "nbconvert_exporter": "python",
   "pygments_lexer": "ipython3",
   "version": "3.10.15"
  }
 },
 "nbformat": 4,
 "nbformat_minor": 2
}
