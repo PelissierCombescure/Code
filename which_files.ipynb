{
 "cells": [
  {
   "cell_type": "code",
   "execution_count": 6,
   "metadata": {},
   "outputs": [],
   "source": [
    "import os\n",
    "import glob\n",
    "import sys\n",
    "sys.path.append('/home/pelissier/These-ATER/Papier_international3/Dataset')  # Adjust the path based on the relative location\n",
    "from utils import *\n",
    "\n",
    "\n",
    "def get_files_recursive(folder_path, extension):\n",
    "    # Get all .off files from the folder and its subfolders\n",
    "    files = glob.glob(os.path.join(folder_path, \"**\", \"*.\"+extension), recursive=True)\n",
    "    \n",
    "    # Filter out files that contain 'SIMPL' in their name\n",
    "    #files = [file for file in files if 'SMPL' not in os.path.basename(file)]\n",
    "    \n",
    "    return files\n",
    "\n",
    "\n",
    "def get_files_recursive_mot(folder_path, mot):\n",
    "    # Get all .off files from the folder and its subfolders\n",
    "    files = glob.glob(os.path.join(folder_path, \"**\", \"*\"+mot+\"*\"), recursive=True)\n",
    "    \n",
    "    # Filter out files that contain 'SIMPL' in their name\n",
    "    #files = [file for file in files if 'SMPL' not in os.path.basename(file)]\n",
    "    \n",
    "    return files\n",
    "\n",
    "def read_paths_from_txt(txt_file):\n",
    "    \"\"\"Reads a list of file paths from a .txt file.\"\"\"\n",
    "    with open(txt_file, 'r') as f:\n",
    "        paths = f.readlines()\n",
    "    # Strip any whitespace characters like `\\n` at the end of each line\n",
    "    paths = [path.strip() for path in paths]\n",
    "    return paths"
   ]
  },
  {
   "cell_type": "code",
   "execution_count": 7,
   "metadata": {},
   "outputs": [
    {
     "name": "stdout",
     "output_type": "stream",
     "text": [
      "285\n"
     ]
    }
   ],
   "source": [
    "cat = 'dresser'\n",
    "cat_ok = get_files_recursive_mot(\"/home/pelissier/These-ATER/Papier_international3/Code/Comparaison-User-study/Alignement/Dataset-aligned/\"+cat, \"_aligned_ok.obj\"); print(len(cat_ok))\n",
    "# with open(\"/home/pelissier/These-ATER/Papier_international3/Code/Comparaison-User-study/Alignement/paths/\"+cat+\"_meshes_aligned_ok.txt\", \"w\") as file:\n",
    "#     for path in cat_ok:\n",
    "#         categorie, type = get_info_path(path)\n",
    "#         new_path = os.path.join(\"Dataset-aligned\", categorie, type, os.path.basename(path))\n",
    "#         file.write(new_path+\"\\n\")"
   ]
  },
  {
   "cell_type": "code",
   "execution_count": null,
   "metadata": {},
   "outputs": [],
   "source": []
  },
  {
   "cell_type": "code",
   "execution_count": null,
   "metadata": {},
   "outputs": [],
   "source": []
  }
 ],
 "metadata": {
  "kernelspec": {
   "display_name": "open3d_env",
   "language": "python",
   "name": "python3"
  },
  "language_info": {
   "codemirror_mode": {
    "name": "ipython",
    "version": 3
   },
   "file_extension": ".py",
   "mimetype": "text/x-python",
   "name": "python",
   "nbconvert_exporter": "python",
   "pygments_lexer": "ipython3",
   "version": "3.10.15"
  }
 },
 "nbformat": 4,
 "nbformat_minor": 2
}
